{
 "cells": [
  {
   "cell_type": "code",
   "execution_count": 1,
   "metadata": {
    "collapsed": true
   },
   "outputs": [],
   "source": [
    "# Author：Sugulu\n",
    "# Date：created 10月31日2017年\n",
    "# のび太FX第1話　if文で予測　"
   ]
  },
  {
   "cell_type": "code",
   "execution_count": 2,
   "metadata": {
    "collapsed": true
   },
   "outputs": [],
   "source": [
    "# import関連\n",
    "import numpy as np\n",
    "import pandas as pd\n",
    "import matplotlib.pylab as plt\n",
    "import seaborn as sns\n",
    "\n",
    "import warnings\n",
    "warnings.filterwarnings('ignore') # 実行上問題ない注意は非表示にします\n",
    "\n",
    "%matplotlib inline"
   ]
  },
  {
   "cell_type": "code",
   "execution_count": 3,
   "metadata": {
    "collapsed": true
   },
   "outputs": [],
   "source": [
    "# dataフォルダの場所を、各自指定してください\n",
    "data_dir = \"./\""
   ]
  },
  {
   "cell_type": "code",
   "execution_count": 4,
   "metadata": {
    "collapsed": true
   },
   "outputs": [],
   "source": [
    "# FXデータの読み込み\n",
    "data = pd.read_csv(data_dir + \"USDJPY_1997_2017.csv\")"
   ]
  },
  {
   "cell_type": "code",
   "execution_count": 5,
   "metadata": {},
   "outputs": [
    {
     "data": {
      "text/html": [
       "<div>\n",
       "<style>\n",
       "    .dataframe thead tr:only-child th {\n",
       "        text-align: right;\n",
       "    }\n",
       "\n",
       "    .dataframe thead th {\n",
       "        text-align: left;\n",
       "    }\n",
       "\n",
       "    .dataframe tbody tr th {\n",
       "        vertical-align: top;\n",
       "    }\n",
       "</style>\n",
       "<table border=\"1\" class=\"dataframe\">\n",
       "  <thead>\n",
       "    <tr style=\"text-align: right;\">\n",
       "      <th></th>\n",
       "      <th>Date</th>\n",
       "      <th>Open</th>\n",
       "      <th>High</th>\n",
       "      <th>Low</th>\n",
       "      <th>Close</th>\n",
       "      <th>Change</th>\n",
       "    </tr>\n",
       "  </thead>\n",
       "  <tbody>\n",
       "    <tr>\n",
       "      <th>0</th>\n",
       "      <td>1997/1/2</td>\n",
       "      <td>115.85</td>\n",
       "      <td>116.20</td>\n",
       "      <td>115.28</td>\n",
       "      <td>115.60</td>\n",
       "      <td>-0.25</td>\n",
       "    </tr>\n",
       "    <tr>\n",
       "      <th>1</th>\n",
       "      <td>1997/1/3</td>\n",
       "      <td>115.65</td>\n",
       "      <td>116.70</td>\n",
       "      <td>115.35</td>\n",
       "      <td>116.28</td>\n",
       "      <td>0.63</td>\n",
       "    </tr>\n",
       "    <tr>\n",
       "      <th>2</th>\n",
       "      <td>1997/1/6</td>\n",
       "      <td>116.75</td>\n",
       "      <td>116.98</td>\n",
       "      <td>115.38</td>\n",
       "      <td>115.75</td>\n",
       "      <td>-1.00</td>\n",
       "    </tr>\n",
       "    <tr>\n",
       "      <th>3</th>\n",
       "      <td>1997/1/7</td>\n",
       "      <td>115.74</td>\n",
       "      <td>116.02</td>\n",
       "      <td>114.80</td>\n",
       "      <td>115.25</td>\n",
       "      <td>-0.49</td>\n",
       "    </tr>\n",
       "    <tr>\n",
       "      <th>4</th>\n",
       "      <td>1997/1/8</td>\n",
       "      <td>115.22</td>\n",
       "      <td>116.00</td>\n",
       "      <td>114.90</td>\n",
       "      <td>115.73</td>\n",
       "      <td>0.51</td>\n",
       "    </tr>\n",
       "  </tbody>\n",
       "</table>\n",
       "</div>"
      ],
      "text/plain": [
       "       Date    Open    High     Low   Close  Change\n",
       "0  1997/1/2  115.85  116.20  115.28  115.60   -0.25\n",
       "1  1997/1/3  115.65  116.70  115.35  116.28    0.63\n",
       "2  1997/1/6  116.75  116.98  115.38  115.75   -1.00\n",
       "3  1997/1/7  115.74  116.02  114.80  115.25   -0.49\n",
       "4  1997/1/8  115.22  116.00  114.90  115.73    0.51"
      ]
     },
     "execution_count": 5,
     "metadata": {},
     "output_type": "execute_result"
    }
   ],
   "source": [
    "# Close-Openをデータに追加します\n",
    "data['Change'] = data.Close - data.Open\n",
    "data.head() # データの概要を見てみます"
   ]
  },
  {
   "cell_type": "code",
   "execution_count": 6,
   "metadata": {},
   "outputs": [
    {
     "data": {
      "text/html": [
       "<div>\n",
       "<style>\n",
       "    .dataframe thead tr:only-child th {\n",
       "        text-align: right;\n",
       "    }\n",
       "\n",
       "    .dataframe thead th {\n",
       "        text-align: left;\n",
       "    }\n",
       "\n",
       "    .dataframe tbody tr th {\n",
       "        vertical-align: top;\n",
       "    }\n",
       "</style>\n",
       "<table border=\"1\" class=\"dataframe\">\n",
       "  <thead>\n",
       "    <tr style=\"text-align: right;\">\n",
       "      <th></th>\n",
       "      <th>Date</th>\n",
       "      <th>Open</th>\n",
       "      <th>High</th>\n",
       "      <th>Low</th>\n",
       "      <th>Close</th>\n",
       "      <th>Change</th>\n",
       "    </tr>\n",
       "  </thead>\n",
       "  <tbody>\n",
       "    <tr>\n",
       "      <th>5193</th>\n",
       "      <td>2017/1/2</td>\n",
       "      <td>116.882</td>\n",
       "      <td>117.661</td>\n",
       "      <td>116.882</td>\n",
       "      <td>117.316</td>\n",
       "      <td>0.434</td>\n",
       "    </tr>\n",
       "    <tr>\n",
       "      <th>5194</th>\n",
       "      <td>2017/1/3</td>\n",
       "      <td>117.314</td>\n",
       "      <td>118.606</td>\n",
       "      <td>117.226</td>\n",
       "      <td>117.698</td>\n",
       "      <td>0.384</td>\n",
       "    </tr>\n",
       "    <tr>\n",
       "      <th>5195</th>\n",
       "      <td>2017/1/4</td>\n",
       "      <td>117.696</td>\n",
       "      <td>118.188</td>\n",
       "      <td>117.061</td>\n",
       "      <td>117.273</td>\n",
       "      <td>-0.423</td>\n",
       "    </tr>\n",
       "    <tr>\n",
       "      <th>5196</th>\n",
       "      <td>2017/1/5</td>\n",
       "      <td>117.276</td>\n",
       "      <td>117.431</td>\n",
       "      <td>115.231</td>\n",
       "      <td>115.445</td>\n",
       "      <td>-1.831</td>\n",
       "    </tr>\n",
       "    <tr>\n",
       "      <th>5197</th>\n",
       "      <td>2017/1/6</td>\n",
       "      <td>115.445</td>\n",
       "      <td>117.177</td>\n",
       "      <td>115.075</td>\n",
       "      <td>116.996</td>\n",
       "      <td>1.551</td>\n",
       "    </tr>\n",
       "  </tbody>\n",
       "</table>\n",
       "</div>"
      ],
      "text/plain": [
       "          Date     Open     High      Low    Close  Change\n",
       "5193  2017/1/2  116.882  117.661  116.882  117.316   0.434\n",
       "5194  2017/1/3  117.314  118.606  117.226  117.698   0.384\n",
       "5195  2017/1/4  117.696  118.188  117.061  117.273  -0.423\n",
       "5196  2017/1/5  117.276  117.431  115.231  115.445  -1.831\n",
       "5197  2017/1/6  115.445  117.177  115.075  116.996   1.551"
      ]
     },
     "execution_count": 6,
     "metadata": {},
     "output_type": "execute_result"
    }
   ],
   "source": [
    "# 2016年のデータを取り出します\n",
    "data16 = data.iloc[4935:5193,:] # pythonは0番目からindexが始まります\n",
    "\n",
    "# 2017年のデータを取り出します\n",
    "data17 = data.iloc[5193:,:] \n",
    "data17.head()"
   ]
  },
  {
   "cell_type": "code",
   "execution_count": 7,
   "metadata": {
    "collapsed": true
   },
   "outputs": [],
   "source": [
    "# 2016年の合計を計算する\n",
    "# 前々日終値に比べて前日終値が高い場合は、買い、低い場合は売りで入ります\n",
    "sum_2016 = 0\n",
    "for i in range(2,len(data16)): # len()で要素数を取得しています\n",
    "    if data16.iloc[i-2,4] <= data16.iloc[i-1,4]:\n",
    "        sum_2016 += data16.iloc[i,5]\n",
    "    else:\n",
    "        sum_2016 -= data16.iloc[i,5]"
   ]
  },
  {
   "cell_type": "code",
   "execution_count": 8,
   "metadata": {},
   "outputs": [
    {
     "name": "stdout",
     "output_type": "stream",
     "text": [
      "2016年の利益合計：9.675\n"
     ]
    }
   ],
   "source": [
    "print(\"2016年の利益合計：%1.3lf\" %sum_2016) # 2016年の利益合計"
   ]
  },
  {
   "cell_type": "code",
   "execution_count": 9,
   "metadata": {},
   "outputs": [
    {
     "name": "stdout",
     "output_type": "stream",
     "text": [
      "2017年の利益合計：-3.139\n"
     ]
    }
   ],
   "source": [
    "# 2017年の合計を計算する\n",
    "# 前々日終値に比べて前日終値が高い場合は、買い、低い場合は売りで入ります\n",
    "sum_2017 = 0\n",
    "for i in range(2,len(data17)): # len()で要素数を取得しています\n",
    "    if data17.iloc[i-2,4] <= data17.iloc[i-1,4]:\n",
    "        sum_2017 += data17.iloc[i,5]\n",
    "    else:\n",
    "        sum_2017 -= data17.iloc[i,5]\n",
    "\n",
    "print(\"2017年の利益合計：%1.3lf\" %sum_2017) # 2017年の利益合計"
   ]
  },
  {
   "cell_type": "code",
   "execution_count": 10,
   "metadata": {},
   "outputs": [
    {
     "data": {
      "text/plain": [
       "(95, 125)"
      ]
     },
     "execution_count": 10,
     "metadata": {},
     "output_type": "execute_result"
    },
    {
     "data": {
      "image/png": "[encoded data removed]",
      "text/plain": [
       "<matplotlib.figure.Figure at 0x58aeb38>"
      ]
     },
     "metadata": {},
     "output_type": "display_data"
    }
   ],
   "source": [
    "# 2016年のデータをプロットしてみます\n",
    "plt.style.use('seaborn-darkgrid')\n",
    "plt.plot(data16['Close'])\n",
    "plt.ylim([95,125])"
   ]
  },
  {
   "cell_type": "code",
   "execution_count": 11,
   "metadata": {},
   "outputs": [
    {
     "data": {
      "text/plain": [
       "(95, 125)"
      ]
     },
     "execution_count": 11,
     "metadata": {},
     "output_type": "execute_result"
    },
    {
     "data": {
      "image/png": "[encoded data removed]",
      "text/plain": [
       "<matplotlib.figure.Figure at 0xbc8ffd0>"
      ]
     },
     "metadata": {},
     "output_type": "display_data"
    }
   ],
   "source": [
    "# 2017年からのデータをプロットしてみます\n",
    "plt.plot(data17['Close'])\n",
    "plt.ylim([95,125])"
   ]
  }
 ],
 "metadata": {
  "kernelspec": {
   "display_name": "Python 3",
   "language": "python",
   "name": "python3"
  },
  "language_info": {
   "codemirror_mode": {
    "name": "ipython",
    "version": 3
   },
   "file_extension": ".py",
   "mimetype": "text/x-python",
   "name": "python",
   "nbconvert_exporter": "python",
   "pygments_lexer": "ipython3",
   "version": "3.6.3"
  }
 },
 "nbformat": 4,
 "nbformat_minor": 2
}
